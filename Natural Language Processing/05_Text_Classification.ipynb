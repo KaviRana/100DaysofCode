{
 "cells": [
  {
   "cell_type": "markdown",
   "metadata": {},
   "source": [
    "## Types of Classification for Text\n",
    "\n",
    "Binary Classification: The text is classified into two classes or categories, such as spam vs. non-spam, positive sentiment vs. negative sentiment, etc.\n",
    "\n",
    "Multi-Class Classification: The text is classified into multiple classes or categories, where each text can belong to only one class.\n",
    "\n",
    "Multi-Label Classification: The text is classified into multiple classes or categories, where each text can belong to one or more classes."
   ]
  },
  {
   "cell_type": "markdown",
   "metadata": {},
   "source": [
    "# Sentiment Analysis using the IMDB dataset"
   ]
  },
  {
   "cell_type": "code",
   "execution_count": null,
   "metadata": {
    "vscode": {
     "languageId": "plaintext"
    }
   },
   "outputs": [],
   "source": []
  }
 ],
 "metadata": {
  "language_info": {
   "name": "python"
  },
  "orig_nbformat": 4
 },
 "nbformat": 4,
 "nbformat_minor": 2
}
