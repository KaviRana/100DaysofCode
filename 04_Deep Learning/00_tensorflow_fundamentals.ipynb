{
  "nbformat": 4,
  "nbformat_minor": 0,
  "metadata": {
    "colab": {
      "provenance": []
    },
    "kernelspec": {
      "name": "python3",
      "display_name": "Python 3"
    },
    "language_info": {
      "name": "python"
    }
  },
  "cells": [
    {
      "cell_type": "markdown",
      "source": [
        "## Introduction to Tensors"
      ],
      "metadata": {
        "id": "4HSsiNppaQEH"
      }
    },
    {
      "cell_type": "code",
      "execution_count": 1,
      "metadata": {
        "id": "kEd5cPX9fdHw",
        "colab": {
          "base_uri": "https://localhost:8080/"
        },
        "outputId": "a2f28d39-cb73-438e-8904-ce0a2aa3ec6d"
      },
      "outputs": [
        {
          "output_type": "stream",
          "name": "stdout",
          "text": [
            "2.12.0\n"
          ]
        }
      ],
      "source": [
        "import tensorflow as tf\n",
        "print(tf.__version__)"
      ]
    },
    {
      "cell_type": "markdown",
      "source": [
        "The key idea is to provide a nested list or array that represents the data and its dimensions. Each nested level corresponds to a new dimension in the tensor. The length of each nested list along each dimension determines the size of that dimension.\n",
        "\n",
        "tf.constant is used to create tensors with constant values that cannot be changed once defined. The values of a constant tensor remain fixed throughout the execution of the program.\n",
        "\n",
        "Constants are useful when you have data that won't change during the training or inference process. They are typically used to represent model parameters, hyperparameters, or any other fixed data that your model needs."
      ],
      "metadata": {
        "id": "oz4ioqmseRzb"
      }
    },
    {
      "cell_type": "code",
      "source": [
        "#Creating tensors : scalar , vectors , n dimensional tensors using tf.constant()\n",
        "scalar = tf.constant(7)\n",
        "print(f\"dimensions of the scalar is {scalar.ndim} and shape is {scalar.shape}\")\n",
        "\n",
        "vector = tf.constant([7,7])\n",
        "print(f\"dimensions of the vector is {vector.ndim} and shape is {vector.shape}\")\n",
        "\n",
        "\n",
        "matrix = tf.constant([[7,7],[7,7]])\n",
        "print(f\"dimensions of the matrix is {matrix.ndim} and shape is {matrix.shape}\")\n",
        "\n",
        "tensor = tf.constant([[[7,7],[7,7],[7,7]]])\n",
        "print(f\"dimensions of the tensor is {tensor.ndim} and shape is {tensor.shape}\")\n",
        "\n",
        "tensor_4 = tf.constant([[[[7,7],[7,7],[2,10]]]])\n",
        "print(f\"dimensions of the tensor_4 is {tensor_4.ndim} and shape is {tensor_4.shape}\")\n"
      ],
      "metadata": {
        "colab": {
          "base_uri": "https://localhost:8080/"
        },
        "id": "0EYDGNBdavWo",
        "outputId": "f3df674c-555f-4ef1-c4ce-02d8568e8531"
      },
      "execution_count": 18,
      "outputs": [
        {
          "output_type": "stream",
          "name": "stdout",
          "text": [
            "dimensions of the scalar is 0 and shape is ()\n",
            "dimensions of the vector is 1 and shape is (2,)\n",
            "dimensions of the matrix is 2 and shape is (2, 2)\n",
            "dimensions of the tensor is 3 and shape is (1, 3, 2)\n",
            "dimensions of the tensor_4 is 4 and shape is (1, 1, 3, 2)\n"
          ]
        }
      ]
    },
    {
      "cell_type": "markdown",
      "source": [
        "tf.Variable is used to create tensors that can be modified during the execution of the program. The values of a variable tensor can be updated or changed using TensorFlow operations like assign or assign_add.\n",
        "\n",
        "Variables are commonly used to represent the trainable parameters of a machine learning model. These parameters are updated during training to minimize the loss function and improve model performance."
      ],
      "metadata": {
        "id": "7DoQ27DKgvu2"
      }
    },
    {
      "cell_type": "code",
      "source": [
        "#creating tensors using tf.Variable\n",
        "changeable_tensor = tf.Variable([10,7])\n",
        "print(f\"{changeable_tensor[0]}\")\n",
        "changeable_tensor[0].assign(7)\n",
        "print(f\"{changeable_tensor[0]}\")"
      ],
      "metadata": {
        "colab": {
          "base_uri": "https://localhost:8080/"
        },
        "id": "-TflylNWf9oI",
        "outputId": "0a64f970-bda3-4beb-8d04-7ec4307ad96c"
      },
      "execution_count": 22,
      "outputs": [
        {
          "output_type": "stream",
          "name": "stdout",
          "text": [
            "10\n",
            "7\n"
          ]
        }
      ]
    },
    {
      "cell_type": "code",
      "source": [
        "#Shuffling the order of a tensor means randomly permuting its elements along a given axis.\n",
        "#This is often useful in machine learning, especially during data preprocessing and when you want to randomize the order of your data for training.\n",
        "original_tensor = tf.constant([[1, 2, 3],\n",
        "                              [4, 5, 6],\n",
        "                              [7, 8, 9]])\n",
        "\n",
        "# Shuffling along the first dimension (rows)\n",
        "shuffled_tensor = tf.random.shuffle(original_tensor)\n",
        "\n",
        "print(\"Original Tensor:\")\n",
        "print(original_tensor)\n",
        "\n",
        "print(\"\\nShuffled Tensor:\")\n",
        "print(shuffled_tensor)\n",
        "\n",
        "shuffled_tensor = tf.random.shuffle(original_tensor, seed=42)\n",
        "\n",
        "print(\"\\nShuffled Tensor with Seed:\")\n",
        "print(shuffled_tensor)"
      ],
      "metadata": {
        "colab": {
          "base_uri": "https://localhost:8080/"
        },
        "id": "i-dZK3GDioXO",
        "outputId": "b70a4c1d-4b40-472d-9fbb-94d11062b235"
      },
      "execution_count": 24,
      "outputs": [
        {
          "output_type": "stream",
          "name": "stdout",
          "text": [
            "Original Tensor:\n",
            "tf.Tensor(\n",
            "[[1 2 3]\n",
            " [4 5 6]\n",
            " [7 8 9]], shape=(3, 3), dtype=int32)\n",
            "\n",
            "Shuffled Tensor:\n",
            "tf.Tensor(\n",
            "[[4 5 6]\n",
            " [1 2 3]\n",
            " [7 8 9]], shape=(3, 3), dtype=int32)\n",
            "\n",
            "Shuffled Tensor with Seed:\n",
            "tf.Tensor(\n",
            "[[7 8 9]\n",
            " [4 5 6]\n",
            " [1 2 3]], shape=(3, 3), dtype=int32)\n"
          ]
        }
      ]
    },
    {
      "cell_type": "markdown",
      "source": [
        "# Manipulation of Tensors\n",
        "1. Information\n",
        "2. Indexing\n",
        "3. Braodcasting\n",
        "4. Basic Operations\n",
        "5. Advanced Operations : Squeezing , Encoding ,"
      ],
      "metadata": {
        "id": "XVZrtejUmvzW"
      }
    },
    {
      "cell_type": "code",
      "source": [
        "# Constant Tensor\n",
        "const_tensor = tf.constant([[1, 2, 3],[4, 5, 6]])\n",
        "# Variable Tensor\n",
        "var_tensor = tf.Variable([[7, 8],[9, 10],[11, 12]])"
      ],
      "metadata": {
        "id": "325uZtVenYc6"
      },
      "execution_count": 25,
      "outputs": []
    },
    {
      "cell_type": "code",
      "source": [
        "print(\"Shape:\", const_tensor.shape)\n",
        "print(\"Axis 1 Shape:\", const_tensor.shape[1])\n",
        "print(\"Rank:\", tf.rank(const_tensor))\n",
        "print(\"Dimension 0:\", tf.shape(const_tensor)[0])\n",
        "print(\"Dimension 1:\", tf.shape(const_tensor)[1])"
      ],
      "metadata": {
        "colab": {
          "base_uri": "https://localhost:8080/"
        },
        "id": "nZnU447nrEJQ",
        "outputId": "0eac55a5-264f-4d9d-bbcd-4704f8dd8910"
      },
      "execution_count": 27,
      "outputs": [
        {
          "output_type": "stream",
          "name": "stdout",
          "text": [
            "Shape: (2, 3)\n",
            "Axis 1 Shape: 3\n",
            "Rank: tf.Tensor(2, shape=(), dtype=int32)\n",
            "Dimension 0: tf.Tensor(2, shape=(), dtype=int32)\n",
            "Dimension 1: tf.Tensor(3, shape=(), dtype=int32)\n"
          ]
        }
      ]
    },
    {
      "cell_type": "code",
      "source": [
        "print(var_tensor)\n",
        "print(\"Shape:\", var_tensor.shape)\n",
        "# Reshaping the Variable Tensor to have 1 dimension (Flattening the tensor)\n",
        "var_flat = tf.reshape(var_tensor, [-1])\n",
        "\n",
        "# Printing the reshaped tensor\n",
        "print(\"\\nReshaped Variable Tensor (Flattened):\")\n",
        "print(var_flat)"
      ],
      "metadata": {
        "colab": {
          "base_uri": "https://localhost:8080/"
        },
        "id": "IdaKuUhYrJYS",
        "outputId": "66e8489f-3bbb-47fd-92a4-46b062a89f15"
      },
      "execution_count": 29,
      "outputs": [
        {
          "output_type": "stream",
          "name": "stdout",
          "text": [
            "<tf.Variable 'Variable:0' shape=(3, 2) dtype=int32, numpy=\n",
            "array([[ 7,  8],\n",
            "       [ 9, 10],\n",
            "       [11, 12]], dtype=int32)>\n",
            "Shape: (3, 2)\n",
            "\n",
            "Reshaped Variable Tensor (Flattened):\n",
            "tf.Tensor([ 7  8  9 10 11 12], shape=(6,), dtype=int32)\n"
          ]
        }
      ]
    },
    {
      "cell_type": "code",
      "source": [
        "#Indexing\n",
        "print(const_tensor[0])  # Accessing the first element (output: 1)\n",
        "print(const_tensor[1:4])  # Slicing elements from index 1 to 3 (output: [2 3 4])"
      ],
      "metadata": {
        "colab": {
          "base_uri": "https://localhost:8080/"
        },
        "id": "NPuhmruRtngE",
        "outputId": "ad9d1136-2d77-4f81-cecd-2187a347686c"
      },
      "execution_count": 31,
      "outputs": [
        {
          "output_type": "stream",
          "name": "stdout",
          "text": [
            "tf.Tensor([1 2 3], shape=(3,), dtype=int32)\n",
            "tf.Tensor([[4 5 6]], shape=(1, 3), dtype=int32)\n"
          ]
        }
      ]
    },
    {
      "cell_type": "markdown",
      "source": [
        "Expanding (also known as broadcasting) is a concept in tensor operations that enables you to perform operations between tensors with different shapes or dimensions. When you perform operations between tensors that have different shapes, TensorFlow automatically \"expands\" the smaller tensor to match the shape of the larger tensor. This process allows element-wise operations to be performed even when the tensor shapes are not identical."
      ],
      "metadata": {
        "id": "A3MBZO15uHS7"
      }
    },
    {
      "cell_type": "code",
      "source": [
        "print(const_tensor)\n",
        "expanded_tensor = tf.expand_dims(const_tensor, axis=0)\n",
        "print(expanded_tensor)"
      ],
      "metadata": {
        "colab": {
          "base_uri": "https://localhost:8080/"
        },
        "id": "rytZQYD1ukyv",
        "outputId": "e5f79f4c-ea49-4f89-8c71-0a3bbd12e95e"
      },
      "execution_count": 36,
      "outputs": [
        {
          "output_type": "stream",
          "name": "stdout",
          "text": [
            "tf.Tensor(\n",
            "[[1 2 3]\n",
            " [4 5 6]], shape=(2, 3), dtype=int32)\n",
            "tf.Tensor(\n",
            "[[[1 2 3]\n",
            "  [4 5 6]]], shape=(1, 2, 3), dtype=int32)\n"
          ]
        }
      ]
    },
    {
      "cell_type": "code",
      "source": [
        "tensor_a = tf.constant([[1, 2, 3],[4, 5, 6]])\n",
        "scalar_b = tf.constant(10)\n",
        "# Adding a scalar to each element of the tensor using broadcasting\n",
        "result = tensor_a + scalar_b\n",
        "print(result)"
      ],
      "metadata": {
        "colab": {
          "base_uri": "https://localhost:8080/"
        },
        "id": "bo-puwfhtxPr",
        "outputId": "75a66ca6-ae95-444a-9dc8-cbcea391edc1"
      },
      "execution_count": 32,
      "outputs": [
        {
          "output_type": "stream",
          "name": "stdout",
          "text": [
            "tf.Tensor(\n",
            "[[11 12 13]\n",
            " [14 15 16]], shape=(2, 3), dtype=int32)\n"
          ]
        }
      ]
    },
    {
      "cell_type": "code",
      "source": [
        "print(tensor_a+10)\n",
        "print(tensor_a-10)\n",
        "print(tensor_a*10)\n",
        "print(tensor_a/10)"
      ],
      "metadata": {
        "colab": {
          "base_uri": "https://localhost:8080/"
        },
        "id": "zV84qRGXvTbX",
        "outputId": "58a0cf0c-c011-42dd-d54a-ebeb5e2c91a9"
      },
      "execution_count": 39,
      "outputs": [
        {
          "output_type": "stream",
          "name": "stdout",
          "text": [
            "tf.Tensor(\n",
            "[[11 12 13]\n",
            " [14 15 16]], shape=(2, 3), dtype=int32)\n",
            "tf.Tensor(\n",
            "[[-9 -8 -7]\n",
            " [-6 -5 -4]], shape=(2, 3), dtype=int32)\n",
            "tf.Tensor(\n",
            "[[10 20 30]\n",
            " [40 50 60]], shape=(2, 3), dtype=int32)\n",
            "tf.Tensor(\n",
            "[[0.1 0.2 0.3]\n",
            " [0.4 0.5 0.6]], shape=(2, 3), dtype=float64)\n"
          ]
        }
      ]
    },
    {
      "cell_type": "markdown",
      "source": [
        "tf.add: Element-wise addition of two tensors.\n",
        "\n",
        "tf.pow: Element-wise exponentiation of a tensor.\n",
        "\n",
        "tf.sin, tf.cos, tf.tan: Element-wise trigonometric functions.\n",
        "\n",
        "tf.reduce_sum: Computes the sum of elements across specified dimensions. This is called aggregating\n",
        "\n",
        "tf.cast(tensor, dtype): change the data type elementwise"
      ],
      "metadata": {
        "id": "QZviSc0gwdt-"
      }
    },
    {
      "cell_type": "code",
      "source": [
        "  # Synatx : tf.matmul(a, b, transpose_a=False, transpose_b=False, adjoint_a=False, adjoint_b=False, a_is_sparse=False, b_is_sparse=False, name=None)\n",
        "mat_multi = tf.matmul(tensor_a, scalar_b)\n",
        "print(mat_multi)"
      ],
      "metadata": {
        "colab": {
          "base_uri": "https://localhost:8080/",
          "height": 380
        },
        "id": "YiuLyddJwngB",
        "outputId": "95be1543-905f-4b07-86fb-e27f55817351"
      },
      "execution_count": 40,
      "outputs": [
        {
          "output_type": "error",
          "ename": "InvalidArgumentError",
          "evalue": "ignored",
          "traceback": [
            "\u001b[0;31m---------------------------------------------------------------------------\u001b[0m",
            "\u001b[0;31mInvalidArgumentError\u001b[0m                      Traceback (most recent call last)",
            "\u001b[0;32m<ipython-input-40-e95590d1f9cf>\u001b[0m in \u001b[0;36m<cell line: 3>\u001b[0;34m()\u001b[0m\n\u001b[1;32m      1\u001b[0m \u001b[0;31m#In TensorFlow, matrix multiplication is performed using the tf.matmul() function or the @ operator.\u001b[0m\u001b[0;34m\u001b[0m\u001b[0;34m\u001b[0m\u001b[0m\n\u001b[1;32m      2\u001b[0m \u001b[0;31m# Synatx : tf.matmul(a, b, transpose_a=False, transpose_b=False, adjoint_a=False, adjoint_b=False, a_is_sparse=False, b_is_sparse=False, name=None)\u001b[0m\u001b[0;34m\u001b[0m\u001b[0;34m\u001b[0m\u001b[0m\n\u001b[0;32m----> 3\u001b[0;31m \u001b[0mmat_multi\u001b[0m \u001b[0;34m=\u001b[0m \u001b[0mtf\u001b[0m\u001b[0;34m.\u001b[0m\u001b[0mmatmul\u001b[0m\u001b[0;34m(\u001b[0m\u001b[0mtensor_a\u001b[0m\u001b[0;34m,\u001b[0m \u001b[0mscalar_b\u001b[0m\u001b[0;34m)\u001b[0m\u001b[0;34m\u001b[0m\u001b[0;34m\u001b[0m\u001b[0m\n\u001b[0m\u001b[1;32m      4\u001b[0m \u001b[0mprint\u001b[0m\u001b[0;34m(\u001b[0m\u001b[0mmat_multi\u001b[0m\u001b[0;34m)\u001b[0m\u001b[0;34m\u001b[0m\u001b[0;34m\u001b[0m\u001b[0m\n",
            "\u001b[0;32m/usr/local/lib/python3.10/dist-packages/tensorflow/python/util/traceback_utils.py\u001b[0m in \u001b[0;36merror_handler\u001b[0;34m(*args, **kwargs)\u001b[0m\n\u001b[1;32m    151\u001b[0m     \u001b[0;32mexcept\u001b[0m \u001b[0mException\u001b[0m \u001b[0;32mas\u001b[0m \u001b[0me\u001b[0m\u001b[0;34m:\u001b[0m\u001b[0;34m\u001b[0m\u001b[0;34m\u001b[0m\u001b[0m\n\u001b[1;32m    152\u001b[0m       \u001b[0mfiltered_tb\u001b[0m \u001b[0;34m=\u001b[0m \u001b[0m_process_traceback_frames\u001b[0m\u001b[0;34m(\u001b[0m\u001b[0me\u001b[0m\u001b[0;34m.\u001b[0m\u001b[0m__traceback__\u001b[0m\u001b[0;34m)\u001b[0m\u001b[0;34m\u001b[0m\u001b[0;34m\u001b[0m\u001b[0m\n\u001b[0;32m--> 153\u001b[0;31m       \u001b[0;32mraise\u001b[0m \u001b[0me\u001b[0m\u001b[0;34m.\u001b[0m\u001b[0mwith_traceback\u001b[0m\u001b[0;34m(\u001b[0m\u001b[0mfiltered_tb\u001b[0m\u001b[0;34m)\u001b[0m \u001b[0;32mfrom\u001b[0m \u001b[0;32mNone\u001b[0m\u001b[0;34m\u001b[0m\u001b[0;34m\u001b[0m\u001b[0m\n\u001b[0m\u001b[1;32m    154\u001b[0m     \u001b[0;32mfinally\u001b[0m\u001b[0;34m:\u001b[0m\u001b[0;34m\u001b[0m\u001b[0;34m\u001b[0m\u001b[0m\n\u001b[1;32m    155\u001b[0m       \u001b[0;32mdel\u001b[0m \u001b[0mfiltered_tb\u001b[0m\u001b[0;34m\u001b[0m\u001b[0;34m\u001b[0m\u001b[0m\n",
            "\u001b[0;32m/usr/local/lib/python3.10/dist-packages/tensorflow/python/framework/ops.py\u001b[0m in \u001b[0;36mraise_from_not_ok_status\u001b[0;34m(e, name)\u001b[0m\n\u001b[1;32m   7260\u001b[0m \u001b[0;32mdef\u001b[0m \u001b[0mraise_from_not_ok_status\u001b[0m\u001b[0;34m(\u001b[0m\u001b[0me\u001b[0m\u001b[0;34m,\u001b[0m \u001b[0mname\u001b[0m\u001b[0;34m)\u001b[0m\u001b[0;34m:\u001b[0m\u001b[0;34m\u001b[0m\u001b[0;34m\u001b[0m\u001b[0m\n\u001b[1;32m   7261\u001b[0m   \u001b[0me\u001b[0m\u001b[0;34m.\u001b[0m\u001b[0mmessage\u001b[0m \u001b[0;34m+=\u001b[0m \u001b[0;34m(\u001b[0m\u001b[0;34m\" name: \"\u001b[0m \u001b[0;34m+\u001b[0m \u001b[0mname\u001b[0m \u001b[0;32mif\u001b[0m \u001b[0mname\u001b[0m \u001b[0;32mis\u001b[0m \u001b[0;32mnot\u001b[0m \u001b[0;32mNone\u001b[0m \u001b[0;32melse\u001b[0m \u001b[0;34m\"\"\u001b[0m\u001b[0;34m)\u001b[0m\u001b[0;34m\u001b[0m\u001b[0;34m\u001b[0m\u001b[0m\n\u001b[0;32m-> 7262\u001b[0;31m   \u001b[0;32mraise\u001b[0m \u001b[0mcore\u001b[0m\u001b[0;34m.\u001b[0m\u001b[0m_status_to_exception\u001b[0m\u001b[0;34m(\u001b[0m\u001b[0me\u001b[0m\u001b[0;34m)\u001b[0m \u001b[0;32mfrom\u001b[0m \u001b[0;32mNone\u001b[0m  \u001b[0;31m# pylint: disable=protected-access\u001b[0m\u001b[0;34m\u001b[0m\u001b[0;34m\u001b[0m\u001b[0m\n\u001b[0m\u001b[1;32m   7263\u001b[0m \u001b[0;34m\u001b[0m\u001b[0m\n\u001b[1;32m   7264\u001b[0m \u001b[0;34m\u001b[0m\u001b[0m\n",
            "\u001b[0;31mInvalidArgumentError\u001b[0m: {{function_node __wrapped__MatMul_device_/job:localhost/replica:0/task:0/device:CPU:0}} In[0] and In[1] has different ndims: [2,3] vs. [] [Op:MatMul]"
          ]
        }
      ]
    },
    {
      "cell_type": "markdown",
      "source": [
        "In TensorFlow, matrix multiplication is performed using the tf.matmul() function or the @ operator.\n",
        "\n",
        "The tf.matmul() function takes two tensors as input and performs matrix multiplication between them.\n",
        "\n",
        "The function follows the standard mathematical rules for matrix multiplication, where the number of columns in the first matrix must be equal to the number of rows in the second matrix.\n",
        "\n",
        "Matrix multiplication is only defined for tensors with rank 2 or higher, and you cannot directly perform matrix multiplication between a 2D tensor and a scalar."
      ],
      "metadata": {
        "id": "NGsVgok8xmWf"
      }
    },
    {
      "cell_type": "code",
      "source": [
        "matrix_a = tf.constant([[1, 2],\n",
        "                        [3, 4]])\n",
        "\n",
        "matrix_b = tf.constant([[5, 6],\n",
        "                        [7, 8]])\n",
        "\n",
        "# Perform matrix multiplication using tf.matmul()\n",
        "result = tf.matmul(matrix_a, matrix_b)\n",
        "\n",
        "print(\"Matrix A:\")\n",
        "print(matrix_a)\n",
        "\n",
        "print(\"\\nMatrix B:\")\n",
        "print(matrix_b)\n",
        "\n",
        "print(\"\\nResult of Matrix Multiplication:\")\n",
        "print(result)\n"
      ],
      "metadata": {
        "colab": {
          "base_uri": "https://localhost:8080/"
        },
        "id": "DHOXFkabxz3G",
        "outputId": "aa160749-ce62-4f1f-f7fd-c44cc97bede7"
      },
      "execution_count": 41,
      "outputs": [
        {
          "output_type": "stream",
          "name": "stdout",
          "text": [
            "Matrix A:\n",
            "tf.Tensor(\n",
            "[[1 2]\n",
            " [3 4]], shape=(2, 2), dtype=int32)\n",
            "\n",
            "Matrix B:\n",
            "tf.Tensor(\n",
            "[[5 6]\n",
            " [7 8]], shape=(2, 2), dtype=int32)\n",
            "\n",
            "Result of Matrix Multiplication:\n",
            "tf.Tensor(\n",
            "[[19 22]\n",
            " [43 50]], shape=(2, 2), dtype=int32)\n"
          ]
        }
      ]
    },
    {
      "cell_type": "markdown",
      "source": [
        "\"squeezing\" refers to the operation of removing dimensions with size 1 from a tensor. A tensor is a multi-dimensional array that can have various dimensions, and sometimes, certain dimensions may have a size of 1, which can be unnecessary or redundant in certain calculations.\n",
        "\n",
        "For example, let's say we have a tensor A of shape (3, 1, 4). This means it has 3 rows, 1 column, and 4 channels. However, having a single column (size 1) might not be required for certain operations, and we might prefer to work with a tensor of shape (3, 4). To achieve this, we can \"squeeze\" the tensor along the second dimension to remove the dimension with size 1."
      ],
      "metadata": {
        "id": "KJxyqs7VOpgJ"
      }
    },
    {
      "cell_type": "code",
      "source": [
        "A = tf.constant([[[1, 2, 3, 4]], [[5, 6, 7, 8]], [[9, 10, 11, 12]]])\n",
        "# Squeeze the tensor to remove the dimension with size 1\n",
        "B = tf.squeeze(A)\n",
        "B.shape"
      ],
      "metadata": {
        "colab": {
          "base_uri": "https://localhost:8080/"
        },
        "id": "RfeuNjYuOnzs",
        "outputId": "ff6e629e-9e81-450a-a24f-2f3756ab42f7"
      },
      "execution_count": 7,
      "outputs": [
        {
          "output_type": "execute_result",
          "data": {
            "text/plain": [
              "TensorShape([3, 4])"
            ]
          },
          "metadata": {},
          "execution_count": 7
        }
      ]
    },
    {
      "cell_type": "code",
      "source": [
        "C = [1,2,3,4]\n",
        "tf.one_hot(C,depth=3)\n",
        "tf.one_hot(C,depth=4,on_value=\"wizzle\",off_value=\"x\")"
      ],
      "metadata": {
        "colab": {
          "base_uri": "https://localhost:8080/"
        },
        "id": "bxwNzUllPXyN",
        "outputId": "f835f1f1-8d7c-46cf-cbbb-f0bc6e387444"
      },
      "execution_count": 10,
      "outputs": [
        {
          "output_type": "execute_result",
          "data": {
            "text/plain": [
              "<tf.Tensor: shape=(4, 4), dtype=string, numpy=\n",
              "array([[b'x', b'wizzle', b'x', b'x'],\n",
              "       [b'x', b'x', b'wizzle', b'x'],\n",
              "       [b'x', b'x', b'x', b'wizzle'],\n",
              "       [b'x', b'x', b'x', b'x']], dtype=object)>"
            ]
          },
          "metadata": {},
          "execution_count": 10
        }
      ]
    },
    {
      "cell_type": "code",
      "source": [],
      "metadata": {
        "id": "lLYKYLllSRrX"
      },
      "execution_count": null,
      "outputs": []
    }
  ]
}