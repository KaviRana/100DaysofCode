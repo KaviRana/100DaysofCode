{
 "cells": [
  {
   "attachments": {},
   "cell_type": "markdown",
   "metadata": {},
   "source": [
    "<h1>Opening a CSV file from URL</h1>"
   ]
  },
  {
   "cell_type": "code",
   "execution_count": null,
   "metadata": {},
   "outputs": [],
   "source": [
    "# Import the requests and io libraries\n",
    "import pandas as pd\n",
    "import requests\n",
    "from io import StringIO\n",
    "\n",
    "# Define the URL of the CSV file\n",
    "url = \"https://raw.githubusercontent.com/cs109/2014_data/master/countries.csv\"\n",
    "\n",
    "# Define the User-Agent header\n",
    "headers = {\"User-Agent\": \"Mozilla/5.0 (Macintosh; Intel Mac OS X 10.14; rv:66.0) Gecko/20100101 Firefox/66.0\"}\n",
    "\n",
    "# Get the CSV file from the URL\n",
    "req = requests.get(url, headers=headers)\n",
    "\n",
    "# Convert the response text to a StringIO object\n",
    "data = StringIO(req.text)\n",
    "\n",
    "# Read the CSV file into a Pandas DataFrame\n",
    "df = pd.read_csv(data)\n",
    "\n",
    "# This code is achieving the following:\n",
    "# 1. It is getting a CSV file from a URL.\n",
    "# 2. It is converting the response text to a StringIO object.\n",
    "# 3. It is reading the CSV file into a Pandas DataFrame.\n"
   ]
  },
  {
   "attachments": {},
   "cell_type": "markdown",
   "metadata": {},
   "source": [
    "<h1>Sep Parameter</h1>\n",
    "The sep parameter in pd.read_csv() is used to specify the delimiter that separates the values in each row of the CSV file. The default value for sep is a comma, but you can also use other delimiters, such as semicolons, tabs, or spaces.\n",
    "\n",
    "For example, the following code reads a CSV file that uses semicolons as the delimiter:\n",
    "\n",
    "df = pd.read_csv('my_file.csv', sep=';')\n",
    "\n",
    "The pd.read_csv() function will then create a Pandas DataFrame object from the CSV file. The DataFrame will have one row for each line in the CSV file, and each column will represent a different field in the file.\n",
    "\n",
    "The sep parameter is a very important parameter in pd.read_csv(), and it is important to make sure that you specify the correct delimiter for your CSV file. If you specify the wrong delimiter, pd.read_csv() will not be able to read the file correctly."
   ]
  },
  {
   "attachments": {},
   "cell_type": "markdown",
   "metadata": {},
   "source": [
    "<h1>Index Column Parameter</h1>\n",
    "The `index_col` parameter in the `pandas.read_csv()` function allows you to specify which column(s) should be used as the index of the DataFrame. The default value is `None`, which means that pandas will add a new column starting at index 0 to be used as the index. If you specify a column name or index number, that column will be used as the index. You can also specify multiple columns to be used as a MultiIndex.\n",
    "\n",
    "For example, the following code reads a CSV file and uses the `Name` column as the index:\n",
    "\n",
    "```\n",
    "import pandas as pd\n",
    "\n",
    "df = pd.read_csv('data.csv', index_col='Name')\n",
    "```\n",
    "\n",
    "This will create a DataFrame with the `Name` column as the index and the remaining columns as the data.\n",
    "\n",
    "The `index_col` parameter can be a useful way to make your DataFrame more efficient and easier to work with. For example, if you are using a DataFrame to track customer orders, you might want to use the `Customer ID` column as the index. This would make it easy to look up orders for a particular customer.\n",
    "\n",
    "Here are some additional things to keep in mind about the `index_col` parameter:\n",
    "\n",
    "* If you specify a column that does not exist in the CSV file, pandas will raise an error.\n",
    "* If you specify a column that contains duplicate values, pandas will raise an error.\n",
    "* If you specify multiple columns, they must all be of the same length.\n"
   ]
  },
  {
   "attachments": {},
   "cell_type": "markdown",
   "metadata": {},
   "source": [
    "<h1>Use_cols parameter</h1>\n",
    "he usecols parameter in the pandas.read_csv() function allows you to specify which columns should be read from the CSV file. The default value is None, which means that all columns will be read. If you specify a list of column names or column indices, only those columns will be read.\n",
    "\n",
    "For example, the following code reads a CSV file and only reads the Name and Age columns:\n",
    "\n",
    "Code snippet\n",
    "import pandas as pd\n",
    "\n",
    "df = pd.read_csv('data.csv', usecols=['Name', 'Age'])\n",
    "Use code with caution. Learn more\n",
    "This will create a DataFrame with two columns, Name and Age.\n",
    "\n",
    "The usecols parameter can be a useful way to reduce the size of a DataFrame or to read only the columns that you need."
   ]
  },
  {
   "cell_type": "code",
   "execution_count": null,
   "metadata": {},
   "outputs": [],
   "source": [
    "pd.read_csv('zomato.csv',encoding='latin-1')#encoding parameter"
   ]
  },
  {
   "cell_type": "code",
   "execution_count": null,
   "metadata": {},
   "outputs": [],
   "source": [
    "pd.read_csv('BX-Books.csv', sep=';', encoding=\"latin-1\",error_bad_lines=False)#it doesnt load lines that have an error while parsing\n"
   ]
  },
  {
   "attachments": {},
   "cell_type": "markdown",
   "metadata": {},
   "source": [
    "<h1>Handling Datetime objects</h1>"
   ]
  },
  {
   "cell_type": "code",
   "execution_count": null,
   "metadata": {},
   "outputs": [],
   "source": [
    "\n",
    "#by default they are read as strings\n",
    "df = pd.read_csv('data.csv', parse_dates=['day', 'month', 'year'])\n",
    "df = df[(df['day'].between('2023-01-01', '2023-03-31'))]"
   ]
  }
 ],
 "metadata": {
  "kernelspec": {
   "display_name": "Python 3",
   "language": "python",
   "name": "python3"
  },
  "language_info": {
   "codemirror_mode": {
    "name": "ipython",
    "version": 3
   },
   "file_extension": ".py",
   "mimetype": "text/x-python",
   "name": "python",
   "nbconvert_exporter": "python",
   "pygments_lexer": "ipython3",
   "version": "3.10.2"
  },
  "orig_nbformat": 4
 },
 "nbformat": 4,
 "nbformat_minor": 2
}
